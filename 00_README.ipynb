{
 "cells": [
  {
   "cell_type": "markdown",
   "metadata": {},
   "source": [
    "# Tooolchain Machine Learning on Microcontrollers (MCU)\n",
    "\n",
    "![](pictures/Visualization-toolchain.png)\n",
    "\n",
    "\n",
    "See [README.md](README.md)\n",
    "\n",
    "[Paper on arXiv](https://arxiv.org/abs/2104.10645).\n",
    "\n",
    "\n",
    "\n",
    "\n",
    "## Notebooks\n",
    "\n",
    "\n",
    "1. `01_...` Model selection and analysis\n",
    "2. `02_..` Conversion and optimization\n",
    "3. `03_...` Preparation of required files for the deployment on the MCU\n",
    "\n",
    "- ..."
   ]
  },
  {
   "cell_type": "markdown",
   "metadata": {},
   "source": [
    "## Imports and helpers\n",
    "\n",
    "Below are some imports and functions which are required by all the nootebooks."
   ]
  },
  {
   "cell_type": "code",
   "execution_count": null,
   "metadata": {},
   "outputs": [],
   "source": [
    "print(\"Importing libraries and helper functions from 00_README.ipynb\")\n",
    "\n",
    "import tensorflow as tf\n",
    "from tensorflow.keras import layers\n",
    "import numpy as np\n",
    "import pandas as pd\n",
    "import matplotlib.pyplot as plt\n",
    "import seaborn as sns\n",
    "import ipywidgets as widgets\n",
    "from ipywidgets import interact, interactive, fixed, interact_manual, Layout\n",
    "from datetime import datetime, date\n",
    "import time\n",
    "import serial\n",
    "import glob # for querying files within directory\n",
    "import os # for filesize\n",
    "from sys import platform\n",
    "import json\n",
    "from rocketlogger.data import RocketLoggerData\n",
    "from keras_flops import get_flops\n",
    "from scipy.stats import linregress\n",
    "\n",
    "\n",
    "print(\"\\tTensorflow Version: \", tf.__version__)\n",
    "print(\"\\tNumpy Version: \", np.__version__)\n",
    "print(\"\\tPandas Version: \", pd.__version__)\n",
    "print(\"Imported all modules.\")"
   ]
  },
  {
   "cell_type": "markdown",
   "metadata": {},
   "source": [
    "Helper functions and setting global variables:"
   ]
  },
  {
   "cell_type": "code",
   "execution_count": null,
   "metadata": {},
   "outputs": [],
   "source": [
    "tf.get_logger().setLevel('ERROR')\n",
    "\n",
    "np.random.seed(42)\n",
    "image_no = np.random.randint(10000)\n",
    "\n",
    "\n",
    "loss_fn_crossentropy = tf.keras.losses.CategoricalCrossentropy(reduction='sum_over_batch_size')\n",
    "loss_fn_meansquared = tf.keras.losses.MeanSquaredError(reduction='sum_over_batch_size')\n",
    "\n",
    "model_selection = widgets.Dropdown(\n",
    "    options=sorted(glob.glob(\"keras-model/*.h5\")),\n",
    "    description='Select model:',\n",
    ")\n",
    "\n",
    "def get_tf_model_string(tf_model_file):\n",
    "    start = tf_model_file.find('01')\n",
    "    end = tf_model_file.find('.h5')\n",
    "    return tf_model_file[start:end]\n",
    "\n",
    "def get_tfl_model_string(tfl_model_file):\n",
    "    start = tfl_model_file.find('01')\n",
    "    end = tfl_model_file.find('.tflite')\n",
    "    return tfl_model_file[start:end]\n",
    "\n",
    "\n",
    "# helper function to get model name\n",
    "def get_model_name(model_string):\n",
    "    if 'ResNet' in model_string:\n",
    "        model_name = 'ResNet20_CIFAR-10'\n",
    "    elif 'LeNet' in model_string:\n",
    "        model_name = 'LeNet-MNIST'\n",
    "    else:\n",
    "        model_name = 'unknown'\n",
    "        print('unknown model name')\n",
    "    return model_name"
   ]
  }
 ],
 "metadata": {
  "kernelspec": {
   "display_name": "Python 3",
   "language": "python",
   "name": "python3"
  },
  "language_info": {
   "codemirror_mode": {
    "name": "ipython",
    "version": 3
   },
   "file_extension": ".py",
   "mimetype": "text/x-python",
   "name": "python",
   "nbconvert_exporter": "python",
   "pygments_lexer": "ipython3",
   "version": "3.9.4"
  }
 },
 "nbformat": 4,
 "nbformat_minor": 4
}
