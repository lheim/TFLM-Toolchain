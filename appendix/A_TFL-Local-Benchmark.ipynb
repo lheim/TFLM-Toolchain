{
 "cells": [
  {
   "cell_type": "markdown",
   "metadata": {},
   "source": [
    "# Run benchmark locally using benchmark binary for TF lite\n",
    "\n",
    "For building the binary see: [here](https://github.com/tensorflow/tensorflow/tree/master/tensorflow/lite/tools/benchmark).\n",
    "\n",
    "\n",
    "#### For macOS (and anyone with the problem that bazel uses Python2\n",
    "\n",
    "`bazel build -c opt tensorflow/lite/tools/benchmark:benchmark_model --action_env PYTHON_BIN_PATH=/usr/local/bin/python3`\n",
    "\n",
    "[More Documention](https://github.com/tensorflow/tensorflow/tree/master/tensorflow/lite/tools/benchmark)\n",
    "\n",
    "## Parameters\n",
    "\n",
    "The binary takes the following required parameters:\n",
    "\n",
    "*   `graph`: `string` \\\n",
    "    The path to the TFLite model file.\n",
    "\n",
    "and the following optional parameters:\n",
    "\n",
    "*   `num_threads`: `int` (default=1) \\\n",
    "    The number of threads to use for running TFLite interpreter.\n",
    "*   `warmup_runs`: `int` (default=1) \\\n",
    "    The number of warmup runs to do before starting the benchmark.\n",
    "*   `num_runs`: `int` (default=50) \\\n",
    "    The number of runs. Increase this to reduce variance.\n",
    "*   `run_delay`: `float` (default=-1.0) \\\n",
    "    The delay in seconds between subsequent benchmark runs. Non-positive values\n",
    "    mean use no delay.\n",
    "*   `use_legacy_nnapi`: `bool` (default=false) \\\n",
    "    Whether to use the legacy\n",
    "    [Android NNAPI](https://developer.android.com/ndk/guides/neuralnetworks/)\n",
    "    TFLite path, which requires the graph to be fully compatible with NNAPI.\n",
    "    This is available on recent Android devices. Note that some Android P\n",
    "    devices will fail to use NNAPI for models in `/data/local/tmp/` and this\n",
    "    benchmark tool will not correctly use NNAPI.\n",
    "*   `enable_op_profiling`: `bool` (default=false) \\\n",
    "    Whether to enable per-operator profiling measurement.\n",
    "*   `enable_platform_tracing`: `bool` (default=false) \\\n",
    "    Whether to enable platform-wide tracing. Needs to be combined with\n",
    "    'enable_op_profiling'. Note, the platform-wide tracing might not work if the\n",
    "    tool runs as a commandline native binary. For example, on Android, the\n",
    "    ATrace-based tracing only works when the tool is launched as an APK.\n",
    "*   `profiling_output_csv_file`: `str` (default=\"\") \\\n",
    "    File path to export profile data to as CSV. The results are printed to\n",
    "    `stdout` if option is not set. Requires `enable_op_profiling` to be `true`\n",
    "    and the path to include the name of the output CSV; otherwise results are\n",
    "    printed to `stdout`.\n",
    "\n",
    "Using the previous selected TFLite model."
   ]
  },
  {
   "cell_type": "code",
   "execution_count": 3,
   "metadata": {},
   "outputs": [
    {
     "data": {
      "text/plain": [
       "'./TFLite-model/LeNet-MNIST_none_tflite-builtins_none_none.tflite'"
      ]
     },
     "execution_count": 3,
     "metadata": {},
     "output_type": "execute_result"
    }
   ],
   "source": [
    "model_file"
   ]
  },
  {
   "cell_type": "code",
   "execution_count": 7,
   "metadata": {},
   "outputs": [
    {
     "data": {
      "text/plain": [
       "['./TFLite-model/LeNet-MNIST_none_tflite-builtins_none_none.tflite',\n",
       " './TFLite-model/01d_ResNet20_CIFAR-10_none_tflite-builtins-INT8_none_dataset.tflite',\n",
       " './TFLite-model/01d_ResNet20_CIFAR-10_none_tflite-builtins_none_none.tflite',\n",
       " './TFLite-model/LeNet-MNIST_PRUNED_none_tflite-builtins-INT8_none_dataset.tflite',\n",
       " './TFLite-model/LeNet-MNIST_PRUNED_none_tflite-builtins_none_none.tflite',\n",
       " './TFLite-model/LeNet-MNIST_optimized_tflite-builtins_none_none.tflite',\n",
       " './TFLite-model/01d_ResNet20_CIFAR-10_optimized_tflite-builtins_none_none.tflite',\n",
       " './TFLite-model/LeNet-MNIST_none_tflite-builtins-INT8_none_dataset.tflite',\n",
       " './TFLite-model/01b_ConvNet_CIFAR-10_none_tflite-builtins-INT8_none_dataset.tflite',\n",
       " './TFLite-model/01b_ConvNet_CIFAR-10_none_tflite-builtins_none_none.tflite',\n",
       " './TFLite-model/LeNet-MNIST_PRUNED_optimized_tflite-builtins_none_none.tflite',\n",
       " './TFLite-model/01b_ConvNet_CIFAR-10_optimized_tflite-builtins_none_none.tflite']"
      ]
     },
     "execution_count": 7,
     "metadata": {},
     "output_type": "execute_result"
    }
   ],
   "source": [
    "model_files = glob.glob('./TFLite-model/*.tflite')\n",
    "model_files"
   ]
  },
  {
   "cell_type": "code",
   "execution_count": 8,
   "metadata": {},
   "outputs": [],
   "source": [
    "model_file = './TFLite-model/LeNet-MNIST_none_tflite-builtins-INT8_none_dataset.tflite'"
   ]
  },
  {
   "cell_type": "code",
   "execution_count": 10,
   "metadata": {},
   "outputs": [
    {
     "name": "stdout",
     "output_type": "stream",
     "text": [
      "STARTING!\n",
      "Duplicate flags: num_threads\n",
      "Log parameter values verbosely: [0]\n",
      "Num threads: [1]\n",
      "Graph: [./TFLite-model/LeNet-MNIST_none_tflite-builtins-INT8_none_dataset.tflite]\n",
      "Enable op profiling: [1]\n",
      "#threads used for CPU inference: [1]\n",
      "Loaded model ./TFLite-model/LeNet-MNIST_none_tflite-builtins-INT8_none_dataset.tflite\n",
      "The input model file size (MB): 0.087232\n",
      "Initialized session in 0.455ms.\n",
      "Running benchmark for at least 1 iterations and at least 0.5 seconds but terminate if exceeding 150 seconds.\n",
      "count=769 first=790 curr=638 min=638 max=1033 avg=649.047 std=24\n",
      "\n",
      "Running benchmark for at least 50 iterations and at least 1 seconds but terminate if exceeding 150 seconds.\n",
      "count=1516 first=642 curr=623 min=623 max=1005 avg=642.85 std=19\n",
      "\n",
      "Inference timings in us: Init: 455, First inference: 790, Warmup (avg): 649.047, Inference (avg): 642.85\n",
      "Profiling Info for Benchmark Initialization:\n",
      "============================== Run Order ==============================\n",
      "\t             [node type]\t          [start]\t  [first]\t [avg ms]\t     [%]\t  [cdf%]\t  [mem KB]\t[times called]\t[Name]\n",
      "\t         AllocateTensors\t            0.000\t    0.053\t    0.053\t100.000%\t100.000%\t     0.000\t        1\tAllocateTensors/0\n",
      "\n",
      "============================== Top by Computation Time ==============================\n",
      "\t             [node type]\t          [start]\t  [first]\t [avg ms]\t     [%]\t  [cdf%]\t  [mem KB]\t[times called]\t[Name]\n",
      "\t         AllocateTensors\t            0.000\t    0.053\t    0.053\t100.000%\t100.000%\t     0.000\t        1\tAllocateTensors/0\n",
      "\n",
      "Number of nodes executed: 1\n",
      "============================== Summary by node type ==============================\n",
      "\t             [Node type]\t  [count]\t  [avg ms]\t    [avg %]\t    [cdf %]\t  [mem KB]\t[times called]\n",
      "\t         AllocateTensors\t        1\t     0.053\t   100.000%\t   100.000%\t     0.000\t        1\n",
      "\n",
      "Timings (microseconds): count=1 curr=53\n",
      "Memory (bytes): count=0\n",
      "1 nodes observed\n",
      "\n",
      "\n",
      "\n",
      "Operator-wise Profiling Info for Regular Benchmark Runs:\n",
      "============================== Run Order ==============================\n",
      "\t             [node type]\t          [start]\t  [first]\t [avg ms]\t     [%]\t  [cdf%]\t  [mem KB]\t[times called]\t[Name]\n",
      "\t                QUANTIZE\t            0.000\t    0.000\t    0.000\t  0.061%\t  0.061%\t     0.000\t        1\t[conv2d_4_input_int8]:0\n",
      "\t                 CONV_2D\t            0.000\t    0.229\t    0.229\t 35.612%\t 35.673%\t     0.000\t        1\t[sequential_2/conv2d_4/Relu;sequential_2/conv2d_4/BiasAdd;sequential_2/conv2d_4/Conv2D;sequential_2/conv2d_4/BiasAdd/ReadVariableOp]:1\n",
      "\t         AVERAGE_POOL_2D\t            0.229\t    0.012\t    0.011\t  1.759%\t 37.432%\t     0.000\t        1\t[sequential_2/average_pooling2d_4/AvgPool]:2\n",
      "\t                 CONV_2D\t            0.241\t    0.378\t    0.380\t 59.176%\t 96.608%\t     0.000\t        1\t[sequential_2/conv2d_5/Relu;sequential_2/conv2d_5/BiasAdd;sequential_2/conv2d_5/Conv2D;sequential_2/conv2d_5/BiasAdd/ReadVariableOp]:3\n",
      "\t         AVERAGE_POOL_2D\t            0.621\t    0.003\t    0.003\t  0.428%\t 97.036%\t     0.000\t        1\t[sequential_2/average_pooling2d_5/AvgPool]:4\n",
      "\t                 RESHAPE\t            0.624\t    0.000\t    0.000\t  0.021%\t 97.057%\t     0.000\t        1\t[sequential_2/flatten_2/Reshape]:5\n",
      "\t         FULLY_CONNECTED\t            0.624\t    0.016\t    0.015\t  2.365%\t 99.423%\t     0.000\t        1\t[sequential_2/dense_6/Relu;sequential_2/dense_6/BiasAdd]:6\n",
      "\t         FULLY_CONNECTED\t            0.639\t    0.003\t    0.003\t  0.450%\t 99.873%\t     0.000\t        1\t[sequential_2/dense_7/Relu;sequential_2/dense_7/BiasAdd]:7\n",
      "\t         FULLY_CONNECTED\t            0.642\t    0.000\t    0.000\t  0.071%\t 99.944%\t     0.000\t        1\t[sequential_2/dense_8/BiasAdd]:8\n",
      "\t                 SOFTMAX\t            0.642\t    0.001\t    0.000\t  0.034%\t 99.978%\t     0.000\t        1\t[Identity_int8]:9\n",
      "\t              DEQUANTIZE\t            0.643\t    0.000\t    0.000\t  0.022%\t100.000%\t     0.000\t        1\t[Identity]:10\n",
      "\n",
      "============================== Top by Computation Time ==============================\n",
      "\t             [node type]\t          [start]\t  [first]\t [avg ms]\t     [%]\t  [cdf%]\t  [mem KB]\t[times called]\t[Name]\n",
      "\t                 CONV_2D\t            0.241\t    0.378\t    0.380\t 59.176%\t 59.176%\t     0.000\t        1\t[sequential_2/conv2d_5/Relu;sequential_2/conv2d_5/BiasAdd;sequential_2/conv2d_5/Conv2D;sequential_2/conv2d_5/BiasAdd/ReadVariableOp]:3\n",
      "\t                 CONV_2D\t            0.000\t    0.229\t    0.229\t 35.612%\t 94.788%\t     0.000\t        1\t[sequential_2/conv2d_4/Relu;sequential_2/conv2d_4/BiasAdd;sequential_2/conv2d_4/Conv2D;sequential_2/conv2d_4/BiasAdd/ReadVariableOp]:1\n",
      "\t         FULLY_CONNECTED\t            0.624\t    0.016\t    0.015\t  2.365%\t 97.153%\t     0.000\t        1\t[sequential_2/dense_6/Relu;sequential_2/dense_6/BiasAdd]:6\n",
      "\t         AVERAGE_POOL_2D\t            0.229\t    0.012\t    0.011\t  1.759%\t 98.912%\t     0.000\t        1\t[sequential_2/average_pooling2d_4/AvgPool]:2\n",
      "\t         FULLY_CONNECTED\t            0.639\t    0.003\t    0.003\t  0.450%\t 99.363%\t     0.000\t        1\t[sequential_2/dense_7/Relu;sequential_2/dense_7/BiasAdd]:7\n",
      "\t         AVERAGE_POOL_2D\t            0.621\t    0.003\t    0.003\t  0.428%\t 99.791%\t     0.000\t        1\t[sequential_2/average_pooling2d_5/AvgPool]:4\n",
      "\t         FULLY_CONNECTED\t            0.642\t    0.000\t    0.000\t  0.071%\t 99.862%\t     0.000\t        1\t[sequential_2/dense_8/BiasAdd]:8\n",
      "\t                QUANTIZE\t            0.000\t    0.000\t    0.000\t  0.061%\t 99.923%\t     0.000\t        1\t[conv2d_4_input_int8]:0\n",
      "\t                 SOFTMAX\t            0.642\t    0.001\t    0.000\t  0.034%\t 99.957%\t     0.000\t        1\t[Identity_int8]:9\n",
      "\t              DEQUANTIZE\t            0.643\t    0.000\t    0.000\t  0.022%\t 99.979%\t     0.000\t        1\t[Identity]:10\n",
      "\n",
      "Number of nodes executed: 11\n",
      "============================== Summary by node type ==============================\n",
      "\t             [Node type]\t  [count]\t  [avg ms]\t    [avg %]\t    [cdf %]\t  [mem KB]\t[times called]\n",
      "\t                 CONV_2D\t        2\t     0.608\t    95.298%\t    95.298%\t     0.000\t        2\n",
      "\t         FULLY_CONNECTED\t        3\t     0.017\t     2.665%\t    97.962%\t     0.000\t        3\n",
      "\t         AVERAGE_POOL_2D\t        2\t     0.013\t     2.038%\t   100.000%\t     0.000\t        2\n",
      "\t                 SOFTMAX\t        1\t     0.000\t     0.000%\t   100.000%\t     0.000\t        1\n",
      "\t                 RESHAPE\t        1\t     0.000\t     0.000%\t   100.000%\t     0.000\t        1\n",
      "\t                QUANTIZE\t        1\t     0.000\t     0.000%\t   100.000%\t     0.000\t        1\n",
      "\t              DEQUANTIZE\t        1\t     0.000\t     0.000%\t   100.000%\t     0.000\t        1\n",
      "\n",
      "Timings (microseconds): count=1516 first=642 curr=622 min=620 max=1005 avg=642.274 std=19\n",
      "Memory (bytes): count=0\n",
      "11 nodes observed\n",
      "\n",
      "\n",
      "\n"
     ]
    }
   ],
   "source": [
    "!~/masterthesis/tensorflow/bazel-bin/tensorflow/lite/tools/benchmark/benchmark_model \\\n",
    "    --graph={model_file} \\\n",
    "    --enable_op_profiling=true \\\n",
    "    --num_threads=1 \\\n",
    "   # --profiling_output_csv_file=\"local_benchmark.csv\""
   ]
  },
  {
   "cell_type": "code",
   "execution_count": null,
   "metadata": {},
   "outputs": [],
   "source": []
  }
 ],
 "metadata": {
  "kernelspec": {
   "display_name": "Python 3",
   "language": "python",
   "name": "python3"
  },
  "language_info": {
   "codemirror_mode": {
    "name": "ipython",
    "version": 3
   },
   "file_extension": ".py",
   "mimetype": "text/x-python",
   "name": "python",
   "nbconvert_exporter": "python",
   "pygments_lexer": "ipython3",
   "version": "3.9.4"
  }
 },
 "nbformat": 4,
 "nbformat_minor": 4
}
