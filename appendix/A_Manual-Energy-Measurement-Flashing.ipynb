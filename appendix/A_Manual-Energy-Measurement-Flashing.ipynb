{
 "cells": [
  {
   "cell_type": "markdown",
   "metadata": {},
   "source": [
    "# 07_Manual Energy Measurement Flashing\n",
    "\n",
    "This script flashes the board with the selected settings and exports them as a json.\n",
    "This json then can be used as a comment in the RocketLogger measurement to allow for an automatic analysis in the evaluation."
   ]
  },
  {
   "cell_type": "code",
   "execution_count": 1,
   "metadata": {},
   "outputs": [],
   "source": [
    "%%capture\n",
    "# pick model name and then run the corresponding notebooks\n",
    "\n",
    "#model_name = 'LeNet-MNIST'\n",
    "model_name = '01d_ResNet20_CIFAR-10'\n",
    "\n",
    "%run '03_TFLu-on-MCU.ipynb'"
   ]
  },
  {
   "cell_type": "code",
   "execution_count": 2,
   "metadata": {},
   "outputs": [],
   "source": [
    "import json\n",
    "from time import sleep\n",
    "# Pyperclip is a cross-platform Python module for copy and paste clipboard functions.\n",
    "import pyperclip"
   ]
  },
  {
   "cell_type": "markdown",
   "metadata": {},
   "source": [
    "#### Use mbed to detect connected boards"
   ]
  },
  {
   "cell_type": "code",
   "execution_count": 3,
   "metadata": {},
   "outputs": [
    {
     "name": "stdout",
     "output_type": "stream",
     "text": [
      "[mbed] Working path \"/Users/nope/ownCloud/projects/masterthesis/jupyter-workspace/LeNet5-on-MNIST\" (program)\n",
      "[mbed] WARNING: The mbed-os tools were not found in \"/Users/nope/ownCloud/projects/masterthesis/jupyter-workspace/LeNet5-on-MNIST\". \n",
      "       Limited information will be shown about connected targets/boards\n",
      "---\n",
      "[mbed] Detected \"DISCO_F469NI\" connected to \"/Volumes/DIS_F469NI\" and using com port \"/dev/tty.usbmodem145103\"\n"
     ]
    }
   ],
   "source": [
    "!mbed detect"
   ]
  },
  {
   "cell_type": "markdown",
   "metadata": {},
   "source": [
    "### Define constants\n",
    "\n",
    "Check the results from `mbed detect` for the serial port and device name."
   ]
  },
  {
   "cell_type": "code",
   "execution_count": 6,
   "metadata": {},
   "outputs": [],
   "source": [
    "target_device = \"DISCO_F469NI\"\n",
    "serial_port = '/dev/tty.usbmodem145103'\n",
    "\n",
    "arena_size_kb = 240"
   ]
  },
  {
   "cell_type": "code",
   "execution_count": 7,
   "metadata": {},
   "outputs": [
    {
     "name": "stdout",
     "output_type": "stream",
     "text": [
      "Using the following images indices from the testset:\n",
      "[7270  860 5390 5191 5734 6265  466 4426 5578 8322 1685  769 6949 2433\n",
      " 5311 5051 6420 1184 4555 3385 6396 8666 9274 2558 7849 2047 2747 9167\n",
      " 9998  189 2734 3005 4658 1899 7734 1267 1528 3556 3890 8838 5393 8792\n",
      " 8433 7513 2612 7041 9555 6235 5486 7099 9670  775 8226 3152 1585 3943\n",
      " 7555 3073 1021 3843 7989 9692 6873 5675  161 4297  995 7629 9467 1016\n",
      " 7869 6439 7892 6863 7916 8529  878 9268 4887 4859 6331 8571 8684 7208\n",
      " 5276 2062   64 8006 2568 5463 2027 2695 9687 5258 5618 6736  391 5892\n",
      " 3561 6184 3099 6278 8392 3104 7215 2454 8996 2731 8154 9762 5056 8110\n",
      " 3840 1028 7385  502 6910 9062 6938 4488  206 5134 5977 7721 7035 1484\n",
      " 7858  863 2790 7408 8755 5116 6019 1757 7574 6374 6892 1678 3242 4636\n",
      " 1059 6668 9914 3157 5915 9789 2693 3627 9555 5450 1663 9721 5592 7392\n",
      " 1306 6776 5864 9474 7526 8901 5575 5530 4413 3748  663 1998 7994 1495\n",
      " 3304 3763 5232 1853 6585 1291 3581 7554 7280 1636 3696  698 4737  854\n",
      " 8164 5855 7392 6528 5249 5172 1707 5791 9925 5535 4931 3510  202 4218\n",
      " 8958 4389 2327 8004].\n"
     ]
    }
   ],
   "source": [
    "# all the available models\n",
    "tfl_model_files = glob.glob(f'./TFLite-model/*{model_name}*.tflite')\n",
    "\n",
    "baudrate = 1000000\n",
    "\n",
    "mbed_none_cmsis_dir = './TFLu_benchmark-model_mbed'\n",
    "mbed_cmsis_dir = './TFLu_benchmark-model_mbed_cmsis-nn'\n",
    "\n",
    "np.random.seed(42) \n",
    "sample_images = np.random.randint(10000, size=200)\n",
    "print(f\"Using the following images indices from the testset:\\n{sample_images}.\")\n",
    "\n",
    "mbed_dirs = {\"none\": mbed_none_cmsis_dir, \n",
    "             \"cmsis-nn\": mbed_cmsis_dir}"
   ]
  },
  {
   "cell_type": "code",
   "execution_count": 8,
   "metadata": {},
   "outputs": [
    {
     "data": {
      "application/vnd.jupyter.widget-view+json": {
       "model_id": "72dc3c6b1be64900985776d97d1d877b",
       "version_major": 2,
       "version_minor": 0
      },
      "text/plain": [
       "Dropdown(description='mbed:', layout=Layout(width='100%'), options=('NUCLEO_L496ZG', 'NUCLEO_F767ZI', 'DISCO_F…"
      ]
     },
     "metadata": {},
     "output_type": "display_data"
    }
   ],
   "source": [
    "# select mcu\n",
    "mcu_select = widgets.Dropdown(\n",
    "    options=[\"NUCLEO_L496ZG\", \"NUCLEO_F767ZI\", \"DISCO_F469NI\"],\n",
    "    description='mbed:',\n",
    "    layout=Layout(width='100%')\n",
    ")\n",
    "display(mcu_select)"
   ]
  },
  {
   "cell_type": "code",
   "execution_count": 9,
   "metadata": {},
   "outputs": [
    {
     "data": {
      "text/plain": [
       "'DISCO_F469NI'"
      ]
     },
     "execution_count": 9,
     "metadata": {},
     "output_type": "execute_result"
    }
   ],
   "source": [
    "target_device = mcu_select.value\n",
    "target_device"
   ]
  },
  {
   "cell_type": "code",
   "execution_count": 10,
   "metadata": {},
   "outputs": [
    {
     "data": {
      "application/vnd.jupyter.widget-view+json": {
       "model_id": "8889ee143f0f4092a47cbc89be361a8e",
       "version_major": 2,
       "version_minor": 0
      },
      "text/plain": [
       "Dropdown(description='Models: ', layout=Layout(width='100%'), options=('./TFLite-model/01d_ResNet20_CIFAR-10_n…"
      ]
     },
     "metadata": {},
     "output_type": "display_data"
    }
   ],
   "source": [
    "file_select = widgets.Dropdown(\n",
    "    options=tfl_model_files,\n",
    "    description='Models: ',\n",
    "    layout=Layout(width='100%')\n",
    ")\n",
    "display(file_select)"
   ]
  },
  {
   "cell_type": "code",
   "execution_count": 11,
   "metadata": {},
   "outputs": [
    {
     "data": {
      "text/plain": [
       "'./TFLite-model/01d_ResNet20_CIFAR-10_none_tflite-builtins_none_none.tflite'"
      ]
     },
     "execution_count": 11,
     "metadata": {},
     "output_type": "execute_result"
    }
   ],
   "source": [
    "tfl_model_file = file_select.value\n",
    "tfl_model_file"
   ]
  },
  {
   "cell_type": "code",
   "execution_count": 12,
   "metadata": {},
   "outputs": [
    {
     "data": {
      "application/vnd.jupyter.widget-view+json": {
       "model_id": "159b6729942e473a81ac92754e83418a",
       "version_major": 2,
       "version_minor": 0
      },
      "text/plain": [
       "Dropdown(description='mbed:', layout=Layout(width='100%'), options=('none', 'cmsis-nn'), value='none')"
      ]
     },
     "metadata": {},
     "output_type": "display_data"
    }
   ],
   "source": [
    "mbed_select = widgets.Dropdown(\n",
    "    options=[\"none\", \"cmsis-nn\"],\n",
    "    description='mbed:',\n",
    "    layout=Layout(width='100%')\n",
    ")\n",
    "display(mbed_select)"
   ]
  },
  {
   "cell_type": "code",
   "execution_count": 17,
   "metadata": {},
   "outputs": [
    {
     "data": {
      "text/plain": [
       "'cmsis-nn'"
      ]
     },
     "execution_count": 17,
     "metadata": {},
     "output_type": "execute_result"
    }
   ],
   "source": [
    "mbed_dir = mbed_select.value\n",
    "mbed_dir"
   ]
  },
  {
   "cell_type": "markdown",
   "metadata": {},
   "source": [
    "### Run the layer benchmark for all the selected models\n",
    "\n",
    "The json including all the model information will be printed and automatically stored in your clipboard."
   ]
  },
  {
   "cell_type": "code",
   "execution_count": 18,
   "metadata": {},
   "outputs": [
    {
     "name": "stdout",
     "output_type": "stream",
     "text": [
      "\tUsing the following mbed: ./TFLu_benchmark-model_mbed_cmsis-nn\n",
      "\tUsing the following software library: cmsis-nn\n",
      "\tBuilding & flashing ...\n",
      "\tFinished building & flashing.\n",
      "\n",
      "Use the following json as a comment for the RocketLogger:\n",
      "(It's  already in your clipboard)\n",
      "\n",
      "{\n",
      "  \"time\": \"2020-08-07 14:52:35.576954\",\n",
      "  \"MCU\": \"DISCO_F469NI\",\n",
      "  \"model\": \"01d_ResNet20_CIFAR-10_none_tflite-builtins_none_none\",\n",
      "  \"model_name\": \"01d_ResNet20_CIFAR-10\",\n",
      "  \"mbed-dir\": \"./TFLu_benchmark-model_mbed_cmsis-nn\",\n",
      "  \"cmsis-nn\": \"cmsis-nn\",\n",
      "  \"pruned\": 0,\n",
      "  \"weights\": \"float32\",\n",
      "  \"activations\": \"float32\",\n",
      "  \"model_type\": \"W-float32_A-float32\",\n",
      "  \"compiler_optimization\": \"-Ofast\",\n",
      "  \"FPU_status\": 1\n",
      "}\n"
     ]
    }
   ],
   "source": [
    "fpu_status = 1\n",
    "compiler_flags = ['-Ofast', '-Os']\n",
    "compiler_flag = '-Ofast'\n",
    "\n",
    "\n",
    "model_information = {}\n",
    "model_information['time'] = str(datetime.now())\n",
    "model_information['MCU'] = target_device\n",
    "\n",
    "tfl_model_string = model_string(tfl_model_file)\n",
    "model_information['model'] = tfl_model_string\n",
    "model_information['model_name'] = model_name\n",
    "\n",
    "print(\"\\tUsing the following mbed:\", mbed_dirs[mbed_dir])\n",
    "model_information['mbed-dir'] = mbed_dirs[mbed_dir]\n",
    "print(\"\\tUsing the following software library:\", mbed_dir)\n",
    "model_information['cmsis-nn'] = mbed_dir\n",
    "\n",
    "patch_arena_size(mbed_dirs[mbed_dir], arena_size_kb)\n",
    "\n",
    "read_model_information(tfl_model_string, model_information)\n",
    "\n",
    "model_information['model_type'] = 'W-' + model_information['weights'] + '_A-' +model_information['activations']\n",
    "\n",
    "\n",
    "tfl_model_to_file(tfl_model_file, mbed_dirs[mbed_dir])\n",
    "\n",
    "write_constants(tfl_model_string, 1, image_no, mbed_dirs[mbed_dir])\n",
    "\n",
    "set_compiler_flag(mbed_dirs[mbed_dir], compiler_flag)\n",
    "model_information['compiler_optimization'] = compiler_flag\n",
    "\n",
    "toggle_fpu(mbed_dirs[mbed_dir], fpu_status)\n",
    "model_information['FPU_status'] = fpu_status\n",
    "\n",
    "print(\"\\tBuilding & flashing ...\")\n",
    "!cd {mbed_dirs[mbed_dir]} && mbed compile -t GCC_ARM --profile release -D BENCHMARK_LAYERS -D INPUT_LENGTH={INPUT_LENGTH} -D ENERGY_MEASUREMENT -D NO_REPORTING --flash > build_log.txt\n",
    "\n",
    "if _exit_code != 0:\n",
    "    print(\"\\tThere was an error during compilation. Skipping ...\")\n",
    "    model_information['error'] = 'error during compilation'\n",
    "\n",
    "print(\"\\tFinished building & flashing.\")\n",
    "\n",
    "# print json\n",
    "print()\n",
    "print(\"Use the following json as a comment for the RocketLogger:\")\n",
    "print(\"(It's  already in your clipboard)\\n\")\n",
    "\n",
    "json_dump = json.dumps(model_information, indent=2)\n",
    "print(json_dump)\n",
    "pyperclip.copy(json_dump)"
   ]
  },
  {
   "cell_type": "markdown",
   "metadata": {},
   "source": [
    "## Send sample images and run the measurement with the RocketLogger in the meantime"
   ]
  },
  {
   "cell_type": "code",
   "execution_count": 19,
   "metadata": {},
   "outputs": [],
   "source": [
    "serial_port = '/dev/tty.usbmodem145103'\n",
    "\n",
    "# the sleep time between sending new images for inference must be manually adjusted\n",
    "# as the MCU doesn't report the inference results back - we do not know when the inference is finished\n",
    "\n",
    "# L4: 0.5is fine for LeNet\n",
    "# ResNet20\n",
    "# L4: 4s for int8 cmsis-nn\n",
    "# L4: 15s for int8 none\n",
    "\n",
    "sleep_time = 8"
   ]
  },
  {
   "cell_type": "code",
   "execution_count": 20,
   "metadata": {},
   "outputs": [
    {
     "name": "stdout",
     "output_type": "stream",
     "text": [
      "Benchmarking layers (sample of 200 images) ...\n",
      "Doing a single inference ...\n",
      "Now start the measurement! HURRY!\n",
      "\t5\n",
      "\t4\n",
      "\t3\n",
      "\t2\n",
      "\t1\n",
      "Here we go ...\n",
      "\t0%\n",
      "\t5%\n",
      "\t10%\n",
      "\t15%\n",
      "\t20%\n",
      "\t25%\n",
      "\t30%\n",
      "\t35%\n",
      "\t40%\n",
      "\t45%\n",
      "\t50%\n",
      "\t55%\n",
      "\t60%\n",
      "\t65%\n",
      "\t70%\n",
      "\t75%\n",
      "\t80%\n",
      "\t85%\n",
      "\t90%\n",
      "\t95%\n",
      "Fin.\n",
      "Now manually stop the measurement and save the file.\n"
     ]
    }
   ],
   "source": [
    "port = set_port(serial_port, baudrate)\n",
    "\n",
    "\n",
    "print(f\"Benchmarking layers (sample of {len(sample_images)} images) ...\")\n",
    "print(\"Doing a single inference ...\")\n",
    "send_image(port, x_test_normalized[image_no])\n",
    "sleep(sleep_time)\n",
    "print(\"Now start the measurement! HURRY!\")\n",
    "sleep(1)\n",
    "print(\"\\t5\")\n",
    "sleep(1)\n",
    "print(\"\\t4\")\n",
    "sleep(1)\n",
    "print(\"\\t3\")\n",
    "sleep(1)\n",
    "print(\"\\t2\")\n",
    "sleep(1)\n",
    "print(\"\\t1\")\n",
    "sleep(1)\n",
    "print(\"Here we go ...\")\n",
    "\n",
    "\n",
    "for i, image_no in enumerate(sample_images):\n",
    "    if(i % 10 == 0):\n",
    "        print(f\"\\t{int(100 * i/sample_images.shape[0])}%\")\n",
    "    send_image(port, x_test_normalized[image_no])\n",
    "    # can't read results they're not reported\n",
    "    # _, benchmark_result = read_results(port)\n",
    "    sleep(sleep_time)\n",
    "\n",
    "print(\"Fin.\")\n",
    "print(\"Now manually stop the measurement and save the file.\")\n",
    "port.close()"
   ]
  },
  {
   "cell_type": "code",
   "execution_count": null,
   "metadata": {},
   "outputs": [],
   "source": []
  },
  {
   "cell_type": "markdown",
   "metadata": {},
   "source": [
    "No manually download the file an run the analysis with `ML-on-MCU_data-analysis/03a_`"
   ]
  },
  {
   "cell_type": "code",
   "execution_count": null,
   "metadata": {},
   "outputs": [],
   "source": []
  }
 ],
 "metadata": {
  "kernelspec": {
   "display_name": "Python 3",
   "language": "python",
   "name": "python3"
  },
  "language_info": {
   "codemirror_mode": {
    "name": "ipython",
    "version": 3
   },
   "file_extension": ".py",
   "mimetype": "text/x-python",
   "name": "python",
   "nbconvert_exporter": "python",
   "pygments_lexer": "ipython3",
   "version": "3.9.4"
  }
 },
 "nbformat": 4,
 "nbformat_minor": 4
}
