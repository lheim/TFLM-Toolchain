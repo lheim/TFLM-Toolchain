{
 "cells": [
  {
   "cell_type": "markdown",
   "metadata": {},
   "source": [
    "# 04 Inference and Verification on the MCU\n",
    "\n",
    "Once the neural network has been deployed on the MCU, it waits for inference data via the serial interface. This script enables the connection using the serial interface, provides the input data, and saves the inference result returned by the MCU.\n",
    "\n",
    "Finally, the last step enables a complete verification of the testset by providing the input data one by one and saving the inference results. This allows to verify the accuracy on the MCU and, therefore, check for inconsistencies."
   ]
  },
  {
   "cell_type": "code",
   "execution_count": 1,
   "metadata": {},
   "outputs": [
    {
     "name": "stdout",
     "output_type": "stream",
     "text": [
      "Imported helper functions from 00_README.ipynb\n",
      "Imported all modules.\n",
      "\tTensorflow Version:  2.2.0\n",
      "\tNumpy Version:  1.19.0\n",
      "\tPandas Version:  1.0.5\n",
      "Imported helper functions from H02_TFL-Conversion.ipynb\n",
      "Imported helper functions from H04_MCU-Verification.ipynb\n"
     ]
    }
   ],
   "source": [
    "%run '00_README.ipynb'\n",
    "%run 'H02_TFL-Conversion.ipynb'\n",
    "%run 'H04_MCU-Verification.ipynb'"
   ]
  },
  {
   "cell_type": "code",
   "execution_count": 2,
   "metadata": {},
   "outputs": [
    {
     "data": {
      "application/vnd.jupyter.widget-view+json": {
       "model_id": "cc2bc7aff53f47c5ac686575ddfcdc9d",
       "version_major": 2,
       "version_minor": 0
      },
      "text/plain": [
       "Dropdown(description='Select model:', options=('keras-model/01a_LeNet-MNIST.h5', 'keras-model/01a_LeNet-MNIST_…"
      ]
     },
     "metadata": {},
     "output_type": "display_data"
    }
   ],
   "source": [
    "display(model_selection)"
   ]
  },
  {
   "cell_type": "code",
   "execution_count": 3,
   "metadata": {},
   "outputs": [],
   "source": [
    "# load model\n",
    "tf_model_file = model_selection.value\n",
    "tf_model = tf.keras.models.load_model(tf_model_file)\n",
    "\n",
    "model_name = get_tf_model_string(tf_model_file)"
   ]
  },
  {
   "cell_type": "code",
   "execution_count": 4,
   "metadata": {},
   "outputs": [
    {
     "data": {
      "application/vnd.jupyter.widget-view+json": {
       "model_id": "44ae59277e57438ba8a5780f031d648e",
       "version_major": 2,
       "version_minor": 0
      },
      "text/plain": [
       "Dropdown(description='Select model:', layout=Layout(width='100%'), options=('keras-model/01a_LeNet-MNIST_data.…"
      ]
     },
     "metadata": {},
     "output_type": "display_data"
    }
   ],
   "source": [
    " data_selection = widgets.Dropdown(\n",
    "    options=sorted(glob.glob(\"keras-model/*.py\")),\n",
    "    description='Select model:',\n",
    "    layout=Layout(width='100%')\n",
    ")\n",
    "display(data_selection)"
   ]
  },
  {
   "cell_type": "code",
   "execution_count": 5,
   "metadata": {},
   "outputs": [
    {
     "name": "stdout",
     "output_type": "stream",
     "text": [
      "The input length is 4096 and the output length 10\n"
     ]
    }
   ],
   "source": [
    "tf_model_data = data_selection.value\n",
    "%run -i {tf_model_data}"
   ]
  },
  {
   "cell_type": "markdown",
   "metadata": {},
   "source": [
    "## Set port"
   ]
  },
  {
   "cell_type": "code",
   "execution_count": 61,
   "metadata": {},
   "outputs": [],
   "source": [
    "port = set_port('/dev/tty.usbmodem145103', 1000000)"
   ]
  },
  {
   "cell_type": "markdown",
   "metadata": {},
   "source": [
    "## Run a single test inference"
   ]
  },
  {
   "cell_type": "code",
   "execution_count": 63,
   "metadata": {},
   "outputs": [],
   "source": [
    "send_image(port, x_test_normalized[image_no])"
   ]
  },
  {
   "cell_type": "code",
   "execution_count": 21,
   "metadata": {},
   "outputs": [
    {
     "data": {
      "text/plain": [
       "(array([], dtype=float64), {})"
      ]
     },
     "execution_count": 21,
     "metadata": {},
     "output_type": "execute_result"
    }
   ],
   "source": [
    "read_results(port)"
   ]
  },
  {
   "cell_type": "code",
   "execution_count": 64,
   "metadata": {},
   "outputs": [
    {
     "name": "stdout",
     "output_type": "stream",
     "text": [
      "\t\tLayer_0_CONV_2D \t\t13001\n",
      "\t\tLayer_1_CONV_2D \t\t14946\n",
      "\t\tLayer_2_CONV_2D \t\t14947\n",
      "\t\tLayer_3_CONV_2D \t\t14946\n",
      "\t\tLayer_4_RESHAPE \t\t4511\n",
      "\t\tLayer_5_FULLY_CONNECTED \t\t3323\n",
      "\t\tLayer_6_SOFTMAX \t\t22\n",
      "_start_report_ \n",
      "\tClass 0 (0.1000000015) \t0x1.99999ap-4\n",
      "\tClass 1 (0.1000000015) \t0x1.99999ap-4\n",
      "\tClass 2 (0.1000000015) \t0x1.99999ap-4\n",
      "\tClass 3 (0.1000000015) \t0x1.99999ap-4\n",
      "\tClass 4 (0.1000000015) \t0x1.99999ap-4\n",
      "\tClass 5 (0.1000000015) \t0x1.99999ap-4\n",
      "\tClass 6 (0.1000000015) \t0x1.99999ap-4\n",
      "\tClass 7 (0.1000000015) \t0x1.99999ap-4\n",
      "\tClass 8 (0.1000000015) \t0x1.99999ap-4\n",
      "\tClass 9 (0.1000000015) \t0x1.99999ap-4\n",
      "_end_report_ \n"
     ]
    },
    {
     "data": {
      "text/plain": [
       "1"
      ]
     },
     "execution_count": 64,
     "metadata": {},
     "output_type": "execute_result"
    }
   ],
   "source": [
    "read_raw_results(port)"
   ]
  },
  {
   "cell_type": "markdown",
   "metadata": {},
   "source": [
    "### Run a test verification of 50 images"
   ]
  },
  {
   "cell_type": "code",
   "execution_count": 14,
   "metadata": {},
   "outputs": [
    {
     "name": "stdout",
     "output_type": "stream",
     "text": [
      "[[0.         0.         0.         0.99609375 0.         0.\n",
      "  0.         0.         0.         0.        ]\n",
      " [0.         0.         0.         0.         0.         0.\n",
      "  0.         0.         0.99609375 0.        ]\n",
      " [0.         0.         0.         0.         0.         0.\n",
      "  0.         0.         0.99609375 0.        ]\n",
      " [0.8203125  0.         0.         0.         0.         0.\n",
      "  0.         0.         0.0234375  0.15625   ]\n",
      " [0.         0.         0.         0.         0.         0.\n",
      "  0.99609375 0.         0.         0.        ]\n",
      " [0.         0.         0.         0.         0.         0.\n",
      "  0.99609375 0.         0.         0.        ]\n",
      " [0.         0.99609375 0.         0.         0.         0.\n",
      "  0.         0.         0.         0.        ]\n",
      " [0.         0.         0.         0.         0.         0.\n",
      "  0.99609375 0.         0.         0.        ]\n",
      " [0.         0.         0.         0.99609375 0.         0.\n",
      "  0.         0.         0.         0.        ]\n",
      " [0.         0.99609375 0.         0.         0.         0.\n",
      "  0.         0.         0.         0.        ]\n",
      " [0.99609375 0.         0.         0.         0.         0.\n",
      "  0.         0.         0.         0.        ]\n",
      " [0.         0.         0.         0.         0.         0.\n",
      "  0.         0.         0.         0.99609375]\n",
      " [0.         0.         0.         0.         0.         0.99609375\n",
      "  0.         0.         0.         0.        ]\n",
      " [0.         0.         0.         0.         0.         0.\n",
      "  0.         0.99609375 0.         0.        ]\n",
      " [0.         0.         0.         0.         0.         0.\n",
      "  0.         0.         0.         0.99609375]\n",
      " [0.0234375  0.         0.         0.         0.         0.\n",
      "  0.48828125 0.         0.48828125 0.        ]\n",
      " [0.         0.         0.         0.         0.         0.99609375\n",
      "  0.         0.         0.         0.        ]\n",
      " [0.         0.         0.         0.         0.         0.\n",
      "  0.         0.99609375 0.         0.        ]\n",
      " [0.         0.         0.         0.         0.         0.\n",
      "  0.         0.         0.99609375 0.        ]\n",
      " [0.         0.         0.         0.         0.         0.\n",
      "  0.99609375 0.         0.         0.        ]\n",
      " [0.         0.         0.         0.         0.         0.\n",
      "  0.         0.99609375 0.         0.        ]\n",
      " [0.99609375 0.         0.         0.         0.         0.\n",
      "  0.         0.         0.         0.        ]\n",
      " [0.         0.         0.         0.01953125 0.98046875 0.\n",
      "  0.         0.         0.         0.        ]\n",
      " [0.         0.         0.         0.         0.         0.\n",
      "  0.         0.         0.         0.99609375]\n",
      " [0.         0.         0.         0.         0.         0.99609375\n",
      "  0.         0.         0.         0.        ]\n",
      " [0.01171875 0.         0.8515625  0.0234375  0.         0.00390625\n",
      "  0.         0.         0.         0.10546875]\n",
      " [0.         0.         0.         0.0234375  0.95703125 0.01953125\n",
      "  0.         0.         0.         0.        ]\n",
      " [0.99609375 0.         0.         0.         0.         0.\n",
      "  0.         0.         0.         0.        ]\n",
      " [0.         0.         0.         0.         0.         0.\n",
      "  0.         0.         0.         0.99609375]\n",
      " [0.         0.         0.         0.         0.         0.\n",
      "  0.99609375 0.         0.         0.        ]\n",
      " [0.         0.         0.         0.         0.         0.\n",
      "  0.99609375 0.         0.         0.        ]\n",
      " [0.         0.         0.         0.         0.         0.99609375\n",
      "  0.         0.         0.         0.        ]\n",
      " [0.         0.         0.00390625 0.01953125 0.9765625  0.\n",
      "  0.         0.         0.         0.        ]\n",
      " [0.         0.         0.         0.         0.00390625 0.99609375\n",
      "  0.         0.         0.         0.        ]\n",
      " [0.         0.         0.         0.         0.         0.\n",
      "  0.         0.         0.         0.99609375]\n",
      " [0.         0.02734375 0.75       0.09375    0.         0.00390625\n",
      "  0.01171875 0.         0.01953125 0.09375   ]\n",
      " [0.         0.         0.         0.         0.99609375 0.\n",
      "  0.         0.         0.         0.        ]\n",
      " [0.         0.26171875 0.         0.         0.         0.\n",
      "  0.         0.         0.         0.73828125]\n",
      " [0.         0.         0.         0.         0.         0.\n",
      "  0.         0.         0.         0.99609375]\n",
      " [0.         0.         0.         0.         0.         0.99609375\n",
      "  0.         0.         0.         0.        ]\n",
      " [0.         0.         0.         0.         0.99609375 0.\n",
      "  0.         0.         0.         0.        ]\n",
      " [0.         0.         0.         0.         0.         0.\n",
      "  0.99609375 0.         0.         0.        ]\n",
      " [0.         0.         0.         0.         0.         0.99609375\n",
      "  0.         0.         0.         0.        ]\n",
      " [0.         0.         0.         0.         0.         0.\n",
      "  0.99609375 0.         0.         0.        ]\n",
      " [0.99609375 0.         0.         0.         0.         0.\n",
      "  0.         0.         0.         0.        ]\n",
      " [0.         0.         0.         0.         0.         0.\n",
      "  0.         0.         0.         0.99609375]\n",
      " [0.         0.         0.02734375 0.96875    0.         0.\n",
      "  0.         0.         0.         0.        ]\n",
      " [0.         0.734375   0.         0.         0.         0.\n",
      "  0.         0.         0.         0.26171875]\n",
      " [0.         0.         0.         0.         0.         0.\n",
      "  0.         0.99609375 0.         0.        ]\n",
      " [0.         0.         0.         0.         0.         0.\n",
      "  0.99609375 0.         0.         0.        ]] [2212748.6 2212560.4 2212598.6 2212594.1 2212800.8 2212645.5 2212831.\n",
      " 2212269.7 2212429.9 2212871.3 2212232.3 2212524.1 2212432.2 2212709.1\n",
      " 2212701.8 2212949.5 2212642.7 2212682.7 2212637.6 2212717.7 2212621.1\n",
      " 2212603.3 2212463.4 2212688.2 2212483.3 2212728.2 2212278.5 2212527.5\n",
      " 2212625.4 2212868.7 2212580.9 2212283.8 2212721.8 2212531.8 2212238.5\n",
      " 2212601.5 2212408.3 2212944.5 2212937.  2212338.  2212811.1 2212615.1\n",
      " 2212489.4 2212351.1 2212792.7 2212708.3 2212356.8 2212709.6 2212514.7\n",
      " 2212608.3]\n"
     ]
    }
   ],
   "source": [
    "mcu_predictions, benchmark_results = verify_accuracy_on_mcu(port, test=True)\n",
    "\n",
    "print(mcu_predictions, benchmark_results)"
   ]
  },
  {
   "cell_type": "markdown",
   "metadata": {},
   "source": [
    "### Run the verification of the whole test set"
   ]
  },
  {
   "cell_type": "code",
   "execution_count": null,
   "metadata": {},
   "outputs": [],
   "source": [
    "mcu_predictions, benchmark_results = verify_accuracy_on_mcu(port)"
   ]
  },
  {
   "cell_type": "markdown",
   "metadata": {},
   "source": [
    "#### Compare accuracies"
   ]
  },
  {
   "cell_type": "code",
   "execution_count": 16,
   "metadata": {},
   "outputs": [
    {
     "data": {
      "application/vnd.jupyter.widget-view+json": {
       "model_id": "83a5bb023a8949b6b688f4577b5d8b93",
       "version_major": 2,
       "version_minor": 0
      },
      "text/plain": [
       "Dropdown(description='Select model:', options=('TFLite-model/01b_ResNet20_CIFAR-10_Q-full.tflite', 'TFLite-mod…"
      ]
     },
     "metadata": {},
     "output_type": "display_data"
    }
   ],
   "source": [
    "tfl_model_selection = widgets.Dropdown(\n",
    "    options=glob.glob(f\"TFLite-model/*{model_name}*.tflite\"),\n",
    "    description='Select model:',\n",
    ")\n",
    "display(tfl_model_selection)"
   ]
  },
  {
   "cell_type": "code",
   "execution_count": 20,
   "metadata": {},
   "outputs": [
    {
     "name": "stdout",
     "output_type": "stream",
     "text": [
      "TF Lite Model on MCU Accuracy:\t 0.94\n",
      "TF Lite Model Accuracy:\t\t 0.9185\n",
      "Original model accuracy:\t 0.9185\n",
      "\n"
     ]
    },
    {
     "ename": "ValueError",
     "evalue": "Shapes (10, 10) and (50, 10) are incompatible",
     "output_type": "error",
     "traceback": [
      "\u001b[0;31m---------------------------------------------------------------------------\u001b[0m",
      "\u001b[0;31mValueError\u001b[0m                                Traceback (most recent call last)",
      "\u001b[0;32m~/ownCloud/projects/masterthesis/jupyter-workspace/ML-on-MCU_toolchain/keras-model/01b_ResNet20_CIFAR-10_data.py\u001b[0m in \u001b[0;36m<module>\u001b[0;34m\u001b[0m\n\u001b[1;32m     21\u001b[0m \u001b[0mprint\u001b[0m\u001b[0;34m(\u001b[0m\u001b[0;34m)\u001b[0m\u001b[0;34m\u001b[0m\u001b[0;34m\u001b[0m\u001b[0m\n\u001b[1;32m     22\u001b[0m \u001b[0mloss_fn\u001b[0m \u001b[0;34m=\u001b[0m \u001b[0mtf\u001b[0m\u001b[0;34m.\u001b[0m\u001b[0mkeras\u001b[0m\u001b[0;34m.\u001b[0m\u001b[0mlosses\u001b[0m\u001b[0;34m.\u001b[0m\u001b[0mCategoricalCrossentropy\u001b[0m\u001b[0;34m(\u001b[0m\u001b[0mreduction\u001b[0m\u001b[0;34m=\u001b[0m\u001b[0;34m'sum_over_batch_size'\u001b[0m\u001b[0;34m)\u001b[0m\u001b[0;34m\u001b[0m\u001b[0;34m\u001b[0m\u001b[0m\n\u001b[0;32m---> 23\u001b[0;31m \u001b[0mmcu_crossentropy_loss\u001b[0m \u001b[0;34m=\u001b[0m \u001b[0mloss_fn\u001b[0m\u001b[0;34m(\u001b[0m\u001b[0my_test\u001b[0m\u001b[0;34m[\u001b[0m\u001b[0;34m:\u001b[0m\u001b[0;36m10\u001b[0m\u001b[0;34m]\u001b[0m\u001b[0;34m,\u001b[0m \u001b[0mmcu_predictions\u001b[0m\u001b[0;34m)\u001b[0m\u001b[0;34m.\u001b[0m\u001b[0mnumpy\u001b[0m\u001b[0;34m(\u001b[0m\u001b[0;34m)\u001b[0m\u001b[0;34m\u001b[0m\u001b[0;34m\u001b[0m\u001b[0m\n\u001b[0m\u001b[1;32m     24\u001b[0m \u001b[0;34m\u001b[0m\u001b[0m\n\u001b[1;32m     25\u001b[0m \u001b[0mprint\u001b[0m\u001b[0;34m(\u001b[0m\u001b[0;34m\"TF Lite Model on MCU cross entropy loss:\\t\"\u001b[0m\u001b[0;34m,\u001b[0m \u001b[0mmcu_crossentropy_loss\u001b[0m\u001b[0;34m)\u001b[0m\u001b[0;34m\u001b[0m\u001b[0;34m\u001b[0m\u001b[0m\n",
      "\u001b[0;32m/usr/local/lib/python3.8/site-packages/tensorflow/python/keras/losses.py\u001b[0m in \u001b[0;36m__call__\u001b[0;34m(self, y_true, y_pred, sample_weight)\u001b[0m\n\u001b[1;32m    141\u001b[0m         y_true, y_pred, sample_weight)\n\u001b[1;32m    142\u001b[0m     \u001b[0;32mwith\u001b[0m \u001b[0mK\u001b[0m\u001b[0;34m.\u001b[0m\u001b[0mname_scope\u001b[0m\u001b[0;34m(\u001b[0m\u001b[0mself\u001b[0m\u001b[0;34m.\u001b[0m\u001b[0m_name_scope\u001b[0m\u001b[0;34m)\u001b[0m\u001b[0;34m,\u001b[0m \u001b[0mgraph_ctx\u001b[0m\u001b[0;34m:\u001b[0m\u001b[0;34m\u001b[0m\u001b[0;34m\u001b[0m\u001b[0m\n\u001b[0;32m--> 143\u001b[0;31m       \u001b[0mlosses\u001b[0m \u001b[0;34m=\u001b[0m \u001b[0mself\u001b[0m\u001b[0;34m.\u001b[0m\u001b[0mcall\u001b[0m\u001b[0;34m(\u001b[0m\u001b[0my_true\u001b[0m\u001b[0;34m,\u001b[0m \u001b[0my_pred\u001b[0m\u001b[0;34m)\u001b[0m\u001b[0;34m\u001b[0m\u001b[0;34m\u001b[0m\u001b[0m\n\u001b[0m\u001b[1;32m    144\u001b[0m       return losses_utils.compute_weighted_loss(\n\u001b[1;32m    145\u001b[0m           losses, sample_weight, reduction=self._get_reduction())\n",
      "\u001b[0;32m/usr/local/lib/python3.8/site-packages/tensorflow/python/keras/losses.py\u001b[0m in \u001b[0;36mcall\u001b[0;34m(self, y_true, y_pred)\u001b[0m\n\u001b[1;32m    244\u001b[0m       y_pred, y_true = tf_losses_util.squeeze_or_expand_dimensions(\n\u001b[1;32m    245\u001b[0m           y_pred, y_true)\n\u001b[0;32m--> 246\u001b[0;31m     \u001b[0;32mreturn\u001b[0m \u001b[0mself\u001b[0m\u001b[0;34m.\u001b[0m\u001b[0mfn\u001b[0m\u001b[0;34m(\u001b[0m\u001b[0my_true\u001b[0m\u001b[0;34m,\u001b[0m \u001b[0my_pred\u001b[0m\u001b[0;34m,\u001b[0m \u001b[0;34m**\u001b[0m\u001b[0mself\u001b[0m\u001b[0;34m.\u001b[0m\u001b[0m_fn_kwargs\u001b[0m\u001b[0;34m)\u001b[0m\u001b[0;34m\u001b[0m\u001b[0;34m\u001b[0m\u001b[0m\n\u001b[0m\u001b[1;32m    247\u001b[0m \u001b[0;34m\u001b[0m\u001b[0m\n\u001b[1;32m    248\u001b[0m   \u001b[0;32mdef\u001b[0m \u001b[0mget_config\u001b[0m\u001b[0;34m(\u001b[0m\u001b[0mself\u001b[0m\u001b[0;34m)\u001b[0m\u001b[0;34m:\u001b[0m\u001b[0;34m\u001b[0m\u001b[0;34m\u001b[0m\u001b[0m\n",
      "\u001b[0;32m/usr/local/lib/python3.8/site-packages/tensorflow/python/keras/losses.py\u001b[0m in \u001b[0;36mcategorical_crossentropy\u001b[0;34m(y_true, y_pred, from_logits, label_smoothing)\u001b[0m\n\u001b[1;32m   1525\u001b[0m   y_true = smart_cond.smart_cond(label_smoothing,\n\u001b[1;32m   1526\u001b[0m                                  _smooth_labels, lambda: y_true)\n\u001b[0;32m-> 1527\u001b[0;31m   \u001b[0;32mreturn\u001b[0m \u001b[0mK\u001b[0m\u001b[0;34m.\u001b[0m\u001b[0mcategorical_crossentropy\u001b[0m\u001b[0;34m(\u001b[0m\u001b[0my_true\u001b[0m\u001b[0;34m,\u001b[0m \u001b[0my_pred\u001b[0m\u001b[0;34m,\u001b[0m \u001b[0mfrom_logits\u001b[0m\u001b[0;34m=\u001b[0m\u001b[0mfrom_logits\u001b[0m\u001b[0;34m)\u001b[0m\u001b[0;34m\u001b[0m\u001b[0;34m\u001b[0m\u001b[0m\n\u001b[0m\u001b[1;32m   1528\u001b[0m \u001b[0;34m\u001b[0m\u001b[0m\n\u001b[1;32m   1529\u001b[0m \u001b[0;34m\u001b[0m\u001b[0m\n",
      "\u001b[0;32m/usr/local/lib/python3.8/site-packages/tensorflow/python/keras/backend.py\u001b[0m in \u001b[0;36mcategorical_crossentropy\u001b[0;34m(target, output, from_logits, axis)\u001b[0m\n\u001b[1;32m   4559\u001b[0m \u001b[0;34m\u001b[0m\u001b[0m\n\u001b[1;32m   4560\u001b[0m   \"\"\"\n\u001b[0;32m-> 4561\u001b[0;31m   \u001b[0mtarget\u001b[0m\u001b[0;34m.\u001b[0m\u001b[0mshape\u001b[0m\u001b[0;34m.\u001b[0m\u001b[0massert_is_compatible_with\u001b[0m\u001b[0;34m(\u001b[0m\u001b[0moutput\u001b[0m\u001b[0;34m.\u001b[0m\u001b[0mshape\u001b[0m\u001b[0;34m)\u001b[0m\u001b[0;34m\u001b[0m\u001b[0;34m\u001b[0m\u001b[0m\n\u001b[0m\u001b[1;32m   4562\u001b[0m   \u001b[0;32mif\u001b[0m \u001b[0mfrom_logits\u001b[0m\u001b[0;34m:\u001b[0m\u001b[0;34m\u001b[0m\u001b[0;34m\u001b[0m\u001b[0m\n\u001b[1;32m   4563\u001b[0m     return nn.softmax_cross_entropy_with_logits_v2(\n",
      "\u001b[0;32m/usr/local/lib/python3.8/site-packages/tensorflow/python/framework/tensor_shape.py\u001b[0m in \u001b[0;36massert_is_compatible_with\u001b[0;34m(self, other)\u001b[0m\n\u001b[1;32m   1115\u001b[0m     \"\"\"\n\u001b[1;32m   1116\u001b[0m     \u001b[0;32mif\u001b[0m \u001b[0;32mnot\u001b[0m \u001b[0mself\u001b[0m\u001b[0;34m.\u001b[0m\u001b[0mis_compatible_with\u001b[0m\u001b[0;34m(\u001b[0m\u001b[0mother\u001b[0m\u001b[0;34m)\u001b[0m\u001b[0;34m:\u001b[0m\u001b[0;34m\u001b[0m\u001b[0;34m\u001b[0m\u001b[0m\n\u001b[0;32m-> 1117\u001b[0;31m       \u001b[0;32mraise\u001b[0m \u001b[0mValueError\u001b[0m\u001b[0;34m(\u001b[0m\u001b[0;34m\"Shapes %s and %s are incompatible\"\u001b[0m \u001b[0;34m%\u001b[0m \u001b[0;34m(\u001b[0m\u001b[0mself\u001b[0m\u001b[0;34m,\u001b[0m \u001b[0mother\u001b[0m\u001b[0;34m)\u001b[0m\u001b[0;34m)\u001b[0m\u001b[0;34m\u001b[0m\u001b[0;34m\u001b[0m\u001b[0m\n\u001b[0m\u001b[1;32m   1118\u001b[0m \u001b[0;34m\u001b[0m\u001b[0m\n\u001b[1;32m   1119\u001b[0m   \u001b[0;32mdef\u001b[0m \u001b[0mmost_specific_compatible_shape\u001b[0m\u001b[0;34m(\u001b[0m\u001b[0mself\u001b[0m\u001b[0;34m,\u001b[0m \u001b[0mother\u001b[0m\u001b[0;34m)\u001b[0m\u001b[0;34m:\u001b[0m\u001b[0;34m\u001b[0m\u001b[0;34m\u001b[0m\u001b[0m\n",
      "\u001b[0;31mValueError\u001b[0m: Shapes (10, 10) and (50, 10) are incompatible"
     ]
    }
   ],
   "source": [
    "# TF\n",
    "tf_model_predictions = tf_model.predict(x=x_test_normalized)\n",
    "tf_model_accuracy = calc_accuracy(tf_model_predictions, y_test)\n",
    "\n",
    "# TFL\n",
    "tfl_model_predictions = tfl_predict(tfl_model_selection.value, x=x_test_normalized)\n",
    "tfl_model_accuracy = calc_accuracy(tfl_model_predictions, y_test)\n",
    "\n",
    "# TFLu\n",
    "accurate_count = 0\n",
    "\n",
    "for index in range(len(mcu_predictions)):\n",
    "    if np.argmax(mcu_predictions[index]) == np.argmax(y_test[index]):\n",
    "        accurate_count += 1\n",
    "\n",
    "mcu_accuracy = accurate_count * 1.0 / len(mcu_predictions)\n",
    "\n",
    "print(\"TF Lite Model on MCU Accuracy:\\t\", mcu_accuracy)\n",
    "print(\"TF Lite Model Accuracy:\\t\\t\", tfl_model_accuracy)\n",
    "print('Original model accuracy:\\t', tf_model_accuracy)\n",
    "print()\n",
    "loss_fn = tf.keras.losses.CategoricalCrossentropy(reduction='sum_over_batch_size')\n",
    "mcu_crossentropy_loss = loss_fn(y_test[:10], mcu_predictions).numpy()\n",
    "\n",
    "print(\"TF Lite Model on MCU cross entropy loss:\\t\", mcu_crossentropy_loss)\n",
    "print(\"TF Lite Model cross entropy loss:\\t\\t\", tfl_crossentropy_loss)\n",
    "print('Original model cross entropy loss:\\t\\t', tf_model_loss)"
   ]
  },
  {
   "cell_type": "code",
   "execution_count": 68,
   "metadata": {},
   "outputs": [
    {
     "data": {
      "text/plain": [
       "0.9179"
      ]
     },
     "execution_count": 68,
     "metadata": {},
     "output_type": "execute_result"
    }
   ],
   "source": [
    "calc_accuracy(tfl_model_predictions, y_test)"
   ]
  },
  {
   "cell_type": "code",
   "execution_count": null,
   "metadata": {},
   "outputs": [],
   "source": []
  }
 ],
 "metadata": {
  "kernelspec": {
   "display_name": "Python 3",
   "language": "python",
   "name": "python3"
  },
  "language_info": {
   "codemirror_mode": {
    "name": "ipython",
    "version": 3
   },
   "file_extension": ".py",
   "mimetype": "text/x-python",
   "name": "python",
   "nbconvert_exporter": "python",
   "pygments_lexer": "ipython3",
   "version": "3.9.4"
  }
 },
 "nbformat": 4,
 "nbformat_minor": 4
}
