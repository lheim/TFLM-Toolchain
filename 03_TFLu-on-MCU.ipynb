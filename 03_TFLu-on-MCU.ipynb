{
 "cells": [
  {
   "cell_type": "markdown",
   "metadata": {},
   "source": [
    "# 03 Tensorflow Lite Micro Deployment on Microcontroller Unit (MCU)\n",
    "\n",
    "This notebook enables the deployment on the MCU by using the converted model (float32 or int8 model). It firsts converts the model into a C array, adds it to the Mbed-OS environment, and finally compiles the binary and flashes it on the MCU using the Mbed-OS toolchain."
   ]
  },
  {
   "cell_type": "code",
   "execution_count": null,
   "metadata": {},
   "outputs": [],
   "source": [
    "%run '00_README.ipynb'\n",
    "%run 'H01_Models.ipynb'\n",
    "%run 'H02_TFL-Conversion.ipynb'\n",
    "%run 'H03_TFLu.ipynb'"
   ]
  },
  {
   "cell_type": "code",
   "execution_count": null,
   "metadata": {},
   "outputs": [],
   "source": [
    "display(model_selection)"
   ]
  },
  {
   "cell_type": "code",
   "execution_count": null,
   "metadata": {},
   "outputs": [],
   "source": [
    "# load model\n",
    "tf_model_file = model_selection.value\n",
    "tf_model = tf.keras.models.load_model(tf_model_file)\n",
    "\n",
    "model_name = get_tf_model_string(tf_model_file)"
   ]
  },
  {
   "cell_type": "code",
   "execution_count": null,
   "metadata": {},
   "outputs": [],
   "source": [
    " data_selection = widgets.Dropdown(\n",
    "    options=sorted(glob.glob(\"keras-model/*.py\")),\n",
    "    description='Select model:',\n",
    "    layout=Layout(width='100%')\n",
    ")\n",
    "display(data_selection)"
   ]
  },
  {
   "cell_type": "code",
   "execution_count": null,
   "metadata": {},
   "outputs": [],
   "source": [
    "tf_model_data = data_selection.value\n",
    "%run -i {tf_model_data}\n"
   ]
  },
  {
   "cell_type": "markdown",
   "metadata": {},
   "source": [
    "### Which converted model would you like to deploy?"
   ]
  },
  {
   "cell_type": "code",
   "execution_count": null,
   "metadata": {},
   "outputs": [],
   "source": [
    "tfl_model_selection = widgets.Dropdown(\n",
    "    options=glob.glob(f\"TFLite-model/*{model_name}*.tflite\"),\n",
    "    description='Select model:',\n",
    ")\n",
    "display(tfl_model_selection)"
   ]
  },
  {
   "cell_type": "markdown",
   "metadata": {},
   "source": [
    "# Deployment on a microcontroller (MCU)\n",
    "\n",
    "The previously converted model can be deployed on a micro controller using [Tensorflow Lite Micro](https://www.tensorflow.org/lite/microcontrollers) (TFLu).\n",
    "\n",
    "The TinyML community is the special interest group (SIG) within the TensorFlow community working on this. See their [charter](https://github.com/tensorflow/community/blob/master/sigs/micro/CHARTER.md).\n",
    "\n",
    "\n",
    "The following example uses a generated `mbed-os` template including TFLu. For more information, please refer to the repositories:\n",
    "- [TFLu_hello-world_mbed](https://gitlab.ethz.ch/tec/research/tensorflow/projects/ma_leheim/tflu_hello-world_mbed)\n",
    "- [TFLu_hello-world_mbed_cmsis-nn](https://gitlab.ethz.ch/tec/research/tensorflow/projects/ma_leheim/tflu_hello-world_mbed_cmsis-nn)\n",
    "- [TFLu_benchmark-model_mbed](https://gitlab.ethz.ch/tec/research/tensorflow/projects/ma_leheim/TFLu_benchmark-model_mbed)\n",
    "- [TFLu_benchmark-model_mbed_cmsis-nn](https://gitlab.ethz.ch/tec/research/tensorflow/projects/ma_leheim/tflu_benchmark-model_mbed_cmsis-nn)\n",
    "\n",
    "\n",
    "This requires [mbed-cli](https://github.com/ARMmbed/mbed-cli) and the [GNU Arm Embedded Toolchain](https://developer.arm.com/tools-and-software/open-source-software/developer-tools/gnu-toolchain/gnu-rm). Make sure to install them."
   ]
  },
  {
   "cell_type": "code",
   "execution_count": null,
   "metadata": {},
   "outputs": [],
   "source": []
  },
  {
   "cell_type": "markdown",
   "metadata": {},
   "source": [
    "### Clone mbed benchmarking template"
   ]
  },
  {
   "cell_type": "code",
   "execution_count": null,
   "metadata": {},
   "outputs": [],
   "source": [
    "display(mbed_selection)"
   ]
  },
  {
   "cell_type": "code",
   "execution_count": null,
   "metadata": {},
   "outputs": [],
   "source": [
    "if mbed_selection.value == 'none':\n",
    "    update_mbed_project(cmsis=False)\n",
    "    mbed_dir = './TFLu_benchmark-model_mbed'\n",
    "else:\n",
    "    update_mbed_project()\n",
    "    mbed_dir = './TFLu_benchmark-model_mbed_cmsis-nn'\n",
    "    \n",
    "    \n",
    "mbed_non_cmsis_dir = './TFLu_benchmark-model_mbed'\n",
    "mbed_cmsis_dir = './TFLu_benchmark-model_mbed_cmsis-nn'\n",
    "\n",
    "mbed_dirs = [mbed_non_cmsis_dir, mbed_cmsis_dir]"
   ]
  },
  {
   "cell_type": "markdown",
   "metadata": {},
   "source": [
    "### Deploy model to mbed"
   ]
  },
  {
   "cell_type": "markdown",
   "metadata": {},
   "source": [
    "#### Write TF Lite model to the mbed project\n",
    "\n",
    "The TF Lite model is a flatbuffers object which can be converted with `xxd -i` to an C array which can be interpreted by TFLu.\n",
    "\n",
    "```\n",
    "!xxd -i {file} > {file}.cc\n",
    "```"
   ]
  },
  {
   "cell_type": "code",
   "execution_count": null,
   "metadata": {},
   "outputs": [],
   "source": [
    "tfl_file = tfl_model_selection.value\n",
    "tfl_model_to_file(tfl_file, mbed_dir)"
   ]
  },
  {
   "cell_type": "markdown",
   "metadata": {},
   "source": [
    "### Copy a normalized example picture\n",
    "\n",
    "A single image will be written as a constant array to the MCU which then can be used for inference on the device.\n",
    "\n",
    "However, you also have the option to transfer images via UART for inference."
   ]
  },
  {
   "cell_type": "code",
   "execution_count": null,
   "metadata": {},
   "outputs": [],
   "source": [
    "display(inferences_slider)"
   ]
  },
  {
   "cell_type": "code",
   "execution_count": null,
   "metadata": {},
   "outputs": [],
   "source": [
    "write_constants(tfl_file, inferences_slider.value, image_no, mbed_dir)"
   ]
  },
  {
   "cell_type": "markdown",
   "metadata": {},
   "source": [
    "#### Build mbed project\n",
    "\n",
    "For available macros please see the README of the mbed repository.\n",
    "\n",
    "```\n",
    "-N ARTIFACT_NAME, --artifact-name ARTIFACT_NAME\n",
    "-c, --clean           Clean the build directory before compiling\n",
    "-f, --flash           Flash the built firmware onto a connected target.\n",
    "-D MACRO, --macro MACRO Add a macro definition\n",
    "--profile PROFILE     Path of a build profile configuration file (or name of Mbed OS profile). Default: develop\n",
    "```"
   ]
  },
  {
   "cell_type": "code",
   "execution_count": null,
   "metadata": {},
   "outputs": [],
   "source": [
    "# fetch latest update and reset previous compilation settings\n",
    "!cd {mbed_dir} && git fetch && git merge"
   ]
  },
  {
   "cell_type": "code",
   "execution_count": null,
   "metadata": {},
   "outputs": [],
   "source": [
    "target_mcu = ''\n",
    "\n",
    "interact(toggle_fpu, mbed_dir=fixed(mbed_dir), status=[('FPU enabled',1),('FPU disabled',0)])\n",
    "interact(set_compiler_flag, mbed_dir=fixed(mbed_dir), flag=['-Ofast', '-Os'])\n",
    "interact(patch_arena_size, mbed_dir=fixed(mbed_dir), size_kb=(0, 1000, 10))\n",
    "# enter target devices of your choice\n",
    "interact(set_target, target=['auto', 'NUCLEO_L496ZG', 'NUCLEO_F767ZI', '...'])\n",
    "\n",
    "display(baudrate_slider)\n",
    "display(cycles_selection, layers_selection, reporting_selection, input_selection, energy_selection)"
   ]
  },
  {
   "cell_type": "code",
   "execution_count": null,
   "metadata": {},
   "outputs": [],
   "source": [
    "arguments = set_compilation_macros(INPUT_LENGTH, OUTPUT_LENGTH, baudrate=int(baudrate_slider.value),\n",
    "           cycles=cycles_selection.value, layers=layers_selection.value, \n",
    "            reporting=reporting_selection.value, \n",
    "           manual_input=input_selection.value, energy=energy_selection.value)\n",
    "print(arguments)"
   ]
  },
  {
   "cell_type": "markdown",
   "metadata": {},
   "source": [
    "## Building and Flashing"
   ]
  },
  {
   "cell_type": "code",
   "execution_count": null,
   "metadata": {},
   "outputs": [],
   "source": [
    "!cd {mbed_dir} && mbed compile \\\n",
    "-m {target_mcu} \\\n",
    "-t GCC_ARM \\\n",
    "--profile release \\\n",
    "--flash \\\n",
    "{arguments}"
   ]
  },
  {
   "cell_type": "markdown",
   "metadata": {},
   "source": [
    "### Flash binary to STM32\n",
    "\n",
    "If the automatic flashing of Mbed doesn't work:\n",
    "\n",
    "```bash\n",
    "cp {mbed_dir}/BUILD/NUCLEO_L496ZG/GCC_ARM-RELEASE/TFLu_hello-world_mbed_cmsis-nn.bin /Volumes/NODE_L496Z\n",
    "\n",
    "# sometimes access to the volume is not permitted, then use st-flash\n",
    "st-flash write {mbed_dir}/BUILD/NUCLEO_L496ZG/GCC_ARM/TFLu_hello-world_mbed_cmsis-nn.bin 0x8000000\n",
    "```"
   ]
  }
 ],
 "metadata": {
  "kernelspec": {
   "display_name": "Python 3",
   "language": "python",
   "name": "python3"
  },
  "language_info": {
   "codemirror_mode": {
    "name": "ipython",
    "version": 3
   },
   "file_extension": ".py",
   "mimetype": "text/x-python",
   "name": "python",
   "nbconvert_exporter": "python",
   "pygments_lexer": "ipython3",
   "version": "3.9.4"
  }
 },
 "nbformat": 4,
 "nbformat_minor": 4
}
