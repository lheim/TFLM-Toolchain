{
 "cells": [
  {
   "cell_type": "markdown",
   "metadata": {},
   "source": [
    "# RocketLogger Helper\n",
    "\n",
    "This notebook implements helper functions to communicate with the RocketLogger via the [CLI](https://gitlab.ethz.ch/tec/public/rocketlogger/-/wikis/measurement-control#rocketlogger-command-line-interface)."
   ]
  },
  {
   "cell_type": "code",
   "execution_count": 19,
   "metadata": {},
   "outputs": [],
   "source": [
    "# create rocketlogger class when outsourcing to a file"
   ]
  },
  {
   "cell_type": "code",
   "execution_count": 59,
   "metadata": {},
   "outputs": [],
   "source": [
    "class RocketLogger:\n",
    "    def __init__(self, ip, key_dir):\n",
    "        self.ip = ip\n",
    "        self.key_dir = key_dir\n",
    "        self.sample_rate = '64k'\n",
    "        self.channels = '0,2'\n",
    "        self.filename = f'init-filename_{date.today()}'\n",
    "        self.file = f'/home/rocketlogger/data/{self.filename}.rld'\n",
    "        self.form = 'bin'\n",
    "        self.comment = ''\n",
    "        self.arguments = f'-r {self.sample_rate} -ch {self.channels} -c -f {self.file} -d -format \"bin\" -C \"{self.comment}\" -s'\n",
    "        \n",
    "        command = f\"'rocketlogger set {self.arguments}'\"\n",
    "        !ssh -p 2322 -i {self.key_dir} rocketlogger@{self.ip} {command}\n",
    "        \n",
    "    \n",
    "    def set_config(self):\n",
    "        self.file = f'/home/rocketlogger/data/{self.filename}.rld'\n",
    "        self.arguments = f'-r {self.sample_rate} -ch {self.channels} -c -f {self.file} -d -format \"bin\" -C \"{self.comment}\" -s'\n",
    "\n",
    "        command = f\"'rocketlogger set {self.arguments}'\"\n",
    "        print(command)\n",
    "        !ssh -p 2322 -i {self.key_dir} rocketlogger@{self.ip} {command}\n",
    "        return _exit_code\n",
    "    \n",
    "    def get_config(self):\n",
    "        rl_config = !ssh -p 2322 -i {self.key_dir} rocketlogger@{self.ip} 'rocketlogger conf'\n",
    "        return rl_config\n",
    "    \n",
    "    def start_measurement(self):\n",
    "        command = f\"'rocketlogger cont {self.arguments} > /dev/null'\"\n",
    "        !ssh -p 2322 -i {self.key_dir} rocketlogger@{self.ip} {command}\n",
    "        return _exit_code\n",
    "    \n",
    "    def stop_measurement(self):\n",
    "        !ssh -p 2322 -i {self.key_dir} rocketlogger@{self.ip} 'rocketlogger stop > /dev/null'\n",
    "        return _exit_code\n",
    "            \n",
    "    def download_file(self):\n",
    "        !scp -P 2322  -i {self.key_dir} rocketlogger@{self.ip}:{self.file} ./results/\n",
    "        return ('./results/' + self.filename + '.rld')"
   ]
  },
  {
   "cell_type": "code",
   "execution_count": null,
   "metadata": {},
   "outputs": [],
   "source": []
  },
  {
   "cell_type": "code",
   "execution_count": null,
   "metadata": {},
   "outputs": [],
   "source": []
  },
  {
   "cell_type": "code",
   "execution_count": 32,
   "metadata": {},
   "outputs": [],
   "source": [
    "# setup RocketLogger\n",
    "def rl_set_arguments():\n",
    "    ip = '192.168.2.2'\n",
    "    key_dir = '~/.ssh/eth/id_rsa'\n",
    "    sample_rate = '64k' # 64\n",
    "    channels = '0,2' # 0,2\n",
    "    file = '~/data/'+'test_23-11.rld'\n",
    "    form = 'bin'\n",
    "    comment = '{json goes here}'\n",
    "\n",
    "    arguments = f'-r {sample_rate} -ch {channels} -c -f {file} -d -format \"bin\" -C \"{comment}\" -s'\n",
    "    return arguments"
   ]
  },
  {
   "cell_type": "code",
   "execution_count": 23,
   "metadata": {},
   "outputs": [],
   "source": [
    "# get config\n",
    "def rl_get_config():\n",
    "    rl_config = !ssh -p 2322 -i {key_dir} rocketlogger@{ip} 'rocketlogger conf'\n",
    "    return rl_config"
   ]
  },
  {
   "cell_type": "code",
   "execution_count": 24,
   "metadata": {},
   "outputs": [],
   "source": [
    "# set config\n",
    "def rl_set_config(arguments):\n",
    "    pass"
   ]
  },
  {
   "cell_type": "code",
   "execution_count": 44,
   "metadata": {},
   "outputs": [
    {
     "name": "stdout",
     "output_type": "stream",
     "text": [
      "Writing rl.py\n"
     ]
    }
   ],
   "source": [
    "# start measurement\n",
    "\n",
    "def rl_start(arguments):\n",
    "    command = f\"'rocketlogger cont {arguments} > /dev/null'\"\n",
    "    !ssh -p 2322 -i {key_dir} rocketlogger@{ip} {command}\n"
   ]
  },
  {
   "cell_type": "code",
   "execution_count": 41,
   "metadata": {},
   "outputs": [],
   "source": [
    "# stop measurement\n",
    "def rl_stop():\n",
    "    !ssh -p 2322 -i {key_dir} rocketlogger@{ip} 'rocketlogger stop > /dev/null'\n"
   ]
  },
  {
   "cell_type": "code",
   "execution_count": 28,
   "metadata": {},
   "outputs": [],
   "source": [
    "# download file\n",
    "def rl_download_file(filename):\n",
    "    !scp -P 2322  -i {key_dir} rocketlogger@{ip}:/home/rocketlogger/data/{filename} ./\n",
    "    return filename"
   ]
  },
  {
   "cell_type": "code",
   "execution_count": null,
   "metadata": {},
   "outputs": [],
   "source": []
  },
  {
   "cell_type": "code",
   "execution_count": 1,
   "metadata": {},
   "outputs": [
    {
     "name": "stdout",
     "output_type": "stream",
     "text": [
      "Imported helper functions from H04_MCU-Verification.ipynb\n"
     ]
    }
   ],
   "source": [
    "print(\"Imported helper functions from H05_RocketLogger.ipynb\")"
   ]
  },
  {
   "cell_type": "markdown",
   "metadata": {},
   "source": [
    "Testing functions"
   ]
  }
 ],
 "metadata": {
  "kernelspec": {
   "display_name": "Python 3",
   "language": "python",
   "name": "python3"
  },
  "language_info": {
   "codemirror_mode": {
    "name": "ipython",
    "version": 3
   },
   "file_extension": ".py",
   "mimetype": "text/x-python",
   "name": "python",
   "nbconvert_exporter": "python",
   "pygments_lexer": "ipython3",
   "version": "3.9.4"
  }
 },
 "nbformat": 4,
 "nbformat_minor": 4
}
