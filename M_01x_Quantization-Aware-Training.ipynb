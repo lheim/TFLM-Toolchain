{
 "cells": [
  {
   "cell_type": "markdown",
   "metadata": {},
   "source": [
    "## Quantization-aware training\n",
    "\n",
    "*not implemented*\n",
    "\n",
    "- [Documentation](https://github.com/tensorflow/tensorflow/tree/r1.13/tensorflow/contrib/quantize)\n",
    "\n",
    "- [Youtube Video](https://www.youtube.com/watch?v=Q1oBXdizXwI&list=WL&index=39)\n",
    "\n",
    "\n",
    "```python\n",
    "import tensorflow_model_optimization as tfmot\n",
    "\n",
    "model = tf.keras.Sequential([\n",
    "   ...\n",
    "])\n",
    "# Quantize the entire model.\n",
    "quantized_model = tfmot.quantization.keras.quantize_model(model)\n",
    "\n",
    "# Continue with training as usual.\n",
    "quantized_model.compile(...)\n",
    "quantized_model.fit(...)\n",
    "```"
   ]
  },
  {
   "cell_type": "markdown",
   "metadata": {},
   "source": []
  }
 ],
 "metadata": {
  "kernelspec": {
   "display_name": "Python 3",
   "language": "python",
   "name": "python3"
  },
  "language_info": {
   "codemirror_mode": {
    "name": "ipython",
    "version": 3
   },
   "file_extension": ".py",
   "mimetype": "text/x-python",
   "name": "python",
   "nbconvert_exporter": "python",
   "pygments_lexer": "ipython3",
   "version": "3.8.6"
  }
 },
 "nbformat": 4,
 "nbformat_minor": 4
}
