{
 "cells": [
  {
   "cell_type": "markdown",
   "metadata": {},
   "source": [
    "# H04 MCU Evaluation and Verification Helpers"
   ]
  },
  {
   "cell_type": "code",
   "execution_count": 22,
   "metadata": {},
   "outputs": [],
   "source": [
    "def set_port(port, baudrate):\n",
    "    port = serial.Serial(port = port, baudrate=baudrate, timeout=60, write_timeout=None,\n",
    "                         stopbits=serial.STOPBITS_ONE, bytesize=8)\n",
    "    \n",
    "    return port"
   ]
  },
  {
   "cell_type": "code",
   "execution_count": 23,
   "metadata": {},
   "outputs": [],
   "source": [
    "def send_image(port, image):\n",
    "    image = np.array(image.flatten(), np.float32)\n",
    "\n",
    "    if platform == \"darwin\":\n",
    "        for b in image:\n",
    "            port.write(bytes(bytearray(b)))\n",
    "            time.sleep(0.0005)\n",
    "    else:\n",
    "        port.write(bytes(bytearray(image)))"
   ]
  },
  {
   "cell_type": "code",
   "execution_count": 24,
   "metadata": {},
   "outputs": [],
   "source": [
    "def read_results(port):\n",
    "    try:\n",
    "        output = port.read_until(bytes(\"_end_report_\\n\\n\".encode('utf-8')))\n",
    "    except serial.SerialTimeoutException:\n",
    "        print(\"Read timeout ...\")\n",
    "        return -1, -1\n",
    "    except Exception as err:\n",
    "        print(\"Unknown error:\", err)\n",
    "        return -1, -1\n",
    "\n",
    "    try:\n",
    "        output = output.decode('utf-8')\n",
    "    except UnicodeDecodeError:\n",
    "        print(\"UnicodeDecodeError\")\n",
    "        return -1, -1\n",
    "        \n",
    "    prediction = np.empty((0))\n",
    "    benchmark_result = -1\n",
    "    layers_benchmarks = {}\n",
    "\n",
    "    lines = iter(output.splitlines())\n",
    "    \n",
    "    for line in lines:\n",
    "        if \"Number of inferences\" in line:\n",
    "            number_of_inferences = int(next(lines))\n",
    "       \n",
    "        elif \"Duration of inferences in\" in line:\n",
    "            benchmark_result = int(next(lines))\n",
    "            benchmark_result = benchmark_result / number_of_inferences\n",
    "    \n",
    "        elif \"Class\" in line:\n",
    "            prediction = np.append(prediction, (float.fromhex(next(lines))))\n",
    "            \n",
    "        elif \"Layer\" in line:\n",
    "            layer_type = str(line[8:]) # skip 'Layer_'\n",
    "            layers_benchmarks[layer_type] = int(next(lines))\n",
    "            \n",
    "        elif not line or \"_end_report_\" in line or \"_start_report_\" in line:\n",
    "            # empty line - skip\n",
    "            next(lines)\n",
    "\n",
    "        else:\n",
    "            print(\"Unknown serial input:\\n\", line, next(lines))\n",
    "    \n",
    "    # when we didn't read any benchmark results\n",
    "    # replace the return value with the benchmarking results\n",
    "    if benchmark_result == -1:\n",
    "        benchmark_result = layers_benchmarks\n",
    "    \n",
    "    return prediction, benchmark_result"
   ]
  },
  {
   "cell_type": "code",
   "execution_count": 8,
   "metadata": {},
   "outputs": [],
   "source": [
    "def read_raw_results(port):\n",
    "    try:\n",
    "        output = port.read_until(bytes(\"_end_report_\\n\\n\".encode('utf-8')))\n",
    "    except serial.SerialTimeoutException:\n",
    "        print(\"Read timeout ...\")\n",
    "        return -1, -1\n",
    "    except Exception as err:\n",
    "        print(\"Unknown error:\", err)\n",
    "        return -1, -1\n",
    "\n",
    "    try:\n",
    "        output = output.decode('utf-8')\n",
    "    except UnicodeDecodeError:\n",
    "        print(\"UnicodeDecodeError\")\n",
    "        return -1, -1\n",
    "        \n",
    "    prediction = np.empty((0))\n",
    "    benchmark_result = -1\n",
    "    layers_benchmarks = {}\n",
    "\n",
    "    lines = iter(output.splitlines())\n",
    "    \n",
    "    for line in lines:\n",
    "        print(line, next(lines))\n",
    "    \n",
    "    \n",
    "    return 1"
   ]
  },
  {
   "cell_type": "markdown",
   "metadata": {},
   "source": [
    "#### Sent images to MCU and log predictions\n",
    "\n",
    "This function sends the whole normalized testset to the MCU, waits for the predictions and logs them."
   ]
  },
  {
   "cell_type": "code",
   "execution_count": 25,
   "metadata": {},
   "outputs": [],
   "source": [
    "def verify_accuracy_on_mcu(port, test=False):\n",
    "\n",
    "    mcu_predictions = np.empty((0, 10), np.float32)\n",
    "    benchmark_results = np.empty((0))\n",
    "    \n",
    "    # read header and clear queue\n",
    "    port.read_all()\n",
    "\n",
    "    if test:\n",
    "        testset = x_test_normalized[:50]\n",
    "    else:\n",
    "        testset = x_test_normalized\n",
    "        \n",
    "    for test_image in testset:\n",
    "        send_image(port, test_image)\n",
    "        mcu_prediction, benchmark_result = read_results(port)\n",
    "        mcu_predictions = np.append(mcu_predictions, [mcu_prediction], axis=0)\n",
    "        benchmark_results = np.append(benchmark_results, benchmark_result)\n",
    "\n",
    "    return mcu_predictions, benchmark_results"
   ]
  },
  {
   "cell_type": "code",
   "execution_count": null,
   "metadata": {},
   "outputs": [],
   "source": []
  },
  {
   "cell_type": "code",
   "execution_count": 1,
   "metadata": {},
   "outputs": [
    {
     "name": "stdout",
     "output_type": "stream",
     "text": [
      "Imported helper functions from H04_MCU-Verification.ipynb\n"
     ]
    }
   ],
   "source": [
    "print(\"Imported helper functions from H04_MCU-Verification.ipynb\")"
   ]
  }
 ],
 "metadata": {
  "kernelspec": {
   "display_name": "Python 3",
   "language": "python",
   "name": "python3"
  },
  "language_info": {
   "codemirror_mode": {
    "name": "ipython",
    "version": 3
   },
   "file_extension": ".py",
   "mimetype": "text/x-python",
   "name": "python",
   "nbconvert_exporter": "python",
   "pygments_lexer": "ipython3",
   "version": "3.9.4"
  }
 },
 "nbformat": 4,
 "nbformat_minor": 4
}
